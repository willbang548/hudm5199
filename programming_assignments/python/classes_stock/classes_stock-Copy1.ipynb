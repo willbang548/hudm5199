{
 "cells": [
  {
   "cell_type": "code",
   "execution_count": 1,
   "id": "35b368a2-3b63-4791-92b1-72482a0fab15",
   "metadata": {},
   "outputs": [],
   "source": [
    "import pandas as pd"
   ]
  },
  {
   "cell_type": "code",
   "execution_count": 50,
   "id": "9b2dc79c-9180-4863-9807-3e0494492793",
   "metadata": {},
   "outputs": [
    {
     "data": {
      "text/html": [
       "<div>\n",
       "<style scoped>\n",
       "    .dataframe tbody tr th:only-of-type {\n",
       "        vertical-align: middle;\n",
       "    }\n",
       "\n",
       "    .dataframe tbody tr th {\n",
       "        vertical-align: top;\n",
       "    }\n",
       "\n",
       "    .dataframe thead th {\n",
       "        text-align: right;\n",
       "    }\n",
       "</style>\n",
       "<table border=\"1\" class=\"dataframe\">\n",
       "  <thead>\n",
       "    <tr style=\"text-align: right;\">\n",
       "      <th></th>\n",
       "      <th>date</th>\n",
       "      <th>adj_close</th>\n",
       "    </tr>\n",
       "  </thead>\n",
       "  <tbody>\n",
       "    <tr>\n",
       "      <th>0</th>\n",
       "      <td>2020-01-02</td>\n",
       "      <td>298.829956</td>\n",
       "    </tr>\n",
       "    <tr>\n",
       "      <th>1</th>\n",
       "      <td>2020-01-03</td>\n",
       "      <td>295.924713</td>\n",
       "    </tr>\n",
       "    <tr>\n",
       "      <th>2</th>\n",
       "      <td>2020-01-06</td>\n",
       "      <td>298.282715</td>\n",
       "    </tr>\n",
       "    <tr>\n",
       "      <th>3</th>\n",
       "      <td>2020-01-07</td>\n",
       "      <td>296.879883</td>\n",
       "    </tr>\n",
       "    <tr>\n",
       "      <th>4</th>\n",
       "      <td>2020-01-08</td>\n",
       "      <td>301.655548</td>\n",
       "    </tr>\n",
       "  </tbody>\n",
       "</table>\n",
       "</div>"
      ],
      "text/plain": [
       "         date   adj_close\n",
       "0  2020-01-02  298.829956\n",
       "1  2020-01-03  295.924713\n",
       "2  2020-01-06  298.282715\n",
       "3  2020-01-07  296.879883\n",
       "4  2020-01-08  301.655548"
      ]
     },
     "execution_count": 50,
     "metadata": {},
     "output_type": "execute_result"
    }
   ],
   "source": [
    "apple_data = pd.read_csv(\"apple_data.csv\")\n",
    "apple_data.head()"
   ]
  },
  {
   "cell_type": "code",
   "execution_count": 51,
   "id": "6cce80e3-b460-4062-bc2f-ded9e28f15ac",
   "metadata": {},
   "outputs": [],
   "source": [
    "class Stock:\n",
    "    \n",
    "    def __init__(self, ticker, prices, sector):\n",
    "        self.ticker = ticker\n",
    "        self.prices = prices\n",
    "        self.sector = sector\n",
    "        \n",
    "    def print_sector(self):\n",
    "        return self.sector\n",
    "    \n",
    "    def get_row_count(self):\n",
    "        price_records = len(self.prices)\n",
    "        print(price_records)"
   ]
  },
  {
   "cell_type": "code",
   "execution_count": 52,
   "id": "4acf7075-c3b5-4966-a7f2-479d5a5d842b",
   "metadata": {},
   "outputs": [],
   "source": [
    "mystock = Stock(\"AAPL\", apple_data, 'technology')"
   ]
  },
  {
   "cell_type": "code",
   "execution_count": 53,
   "id": "439faa6c-6f11-43a5-99fd-4d8f63eb230b",
   "metadata": {},
   "outputs": [
    {
     "data": {
      "text/plain": [
       "'AAPL'"
      ]
     },
     "execution_count": 53,
     "metadata": {},
     "output_type": "execute_result"
    }
   ],
   "source": [
    "mystock.ticker"
   ]
  },
  {
   "cell_type": "code",
   "execution_count": 54,
   "id": "e94e541a-b812-4766-851b-753c436bd132",
   "metadata": {},
   "outputs": [
    {
     "data": {
      "text/plain": [
       "'technology'"
      ]
     },
     "execution_count": 54,
     "metadata": {},
     "output_type": "execute_result"
    }
   ],
   "source": [
    "mystock.print_sector()"
   ]
  },
  {
   "cell_type": "code",
   "execution_count": 55,
   "id": "436e0672-fe54-4694-9f89-43361bfcb217",
   "metadata": {},
   "outputs": [
    {
     "name": "stdout",
     "output_type": "stream",
     "text": [
      "135\n"
     ]
    }
   ],
   "source": [
    "mystock.get_row_count()"
   ]
  },
  {
   "cell_type": "code",
   "execution_count": 56,
   "id": "3da1b2eb-7421-4d90-a283-b956e6577f14",
   "metadata": {},
   "outputs": [
    {
     "data": {
      "text/plain": [
       "-0.9722060526586884"
      ]
     },
     "execution_count": 56,
     "metadata": {},
     "output_type": "execute_result"
    }
   ],
   "source": [
    "aaa=((apple_data['adj_close'][1]-apple_data['adj_close'][0])/apple_data['adj_close'][0])*100 \n",
    "aaa"
   ]
  },
  {
   "cell_type": "code",
   "execution_count": 62,
   "id": "e13cd6c2-b850-445d-8efa-bd796df008ea",
   "metadata": {},
   "outputs": [
    {
     "data": {
      "text/html": [
       "<div>\n",
       "<style scoped>\n",
       "    .dataframe tbody tr th:only-of-type {\n",
       "        vertical-align: middle;\n",
       "    }\n",
       "\n",
       "    .dataframe tbody tr th {\n",
       "        vertical-align: top;\n",
       "    }\n",
       "\n",
       "    .dataframe thead th {\n",
       "        text-align: right;\n",
       "    }\n",
       "</style>\n",
       "<table border=\"1\" class=\"dataframe\">\n",
       "  <thead>\n",
       "    <tr style=\"text-align: right;\">\n",
       "      <th></th>\n",
       "      <th>date</th>\n",
       "      <th>adj_close</th>\n",
       "      <th>returns</th>\n",
       "    </tr>\n",
       "  </thead>\n",
       "  <tbody>\n",
       "    <tr>\n",
       "      <th>0</th>\n",
       "      <td>2020-01-02</td>\n",
       "      <td>298.829956</td>\n",
       "      <td>NaN</td>\n",
       "    </tr>\n",
       "    <tr>\n",
       "      <th>1</th>\n",
       "      <td>2020-01-03</td>\n",
       "      <td>295.924713</td>\n",
       "      <td>-0.972206</td>\n",
       "    </tr>\n",
       "    <tr>\n",
       "      <th>2</th>\n",
       "      <td>2020-01-06</td>\n",
       "      <td>298.282715</td>\n",
       "      <td>0.796825</td>\n",
       "    </tr>\n",
       "    <tr>\n",
       "      <th>3</th>\n",
       "      <td>2020-01-07</td>\n",
       "      <td>296.879883</td>\n",
       "      <td>-0.470303</td>\n",
       "    </tr>\n",
       "    <tr>\n",
       "      <th>4</th>\n",
       "      <td>2020-01-08</td>\n",
       "      <td>301.655548</td>\n",
       "      <td>1.608619</td>\n",
       "    </tr>\n",
       "  </tbody>\n",
       "</table>\n",
       "</div>"
      ],
      "text/plain": [
       "         date   adj_close   returns\n",
       "0  2020-01-02  298.829956       NaN\n",
       "1  2020-01-03  295.924713 -0.972206\n",
       "2  2020-01-06  298.282715  0.796825\n",
       "3  2020-01-07  296.879883 -0.470303\n",
       "4  2020-01-08  301.655548  1.608619"
      ]
     },
     "execution_count": 62,
     "metadata": {},
     "output_type": "execute_result"
    }
   ],
   "source": [
    "mystock.prices['returns'] =  mystock.prices['adj_close'].pct_change() * 100\n",
    "mystock.prices.head()"
   ]
  },
  {
   "cell_type": "code",
   "execution_count": null,
   "id": "9ba70b34-37df-4dc6-8fb3-2d66eceec137",
   "metadata": {},
   "outputs": [],
   "source": []
  }
 ],
 "metadata": {
  "kernelspec": {
   "display_name": "Python 3 (ipykernel)",
   "language": "python",
   "name": "python3"
  },
  "language_info": {
   "codemirror_mode": {
    "name": "ipython",
    "version": 3
   },
   "file_extension": ".py",
   "mimetype": "text/x-python",
   "name": "python",
   "nbconvert_exporter": "python",
   "pygments_lexer": "ipython3",
   "version": "3.9.13"
  }
 },
 "nbformat": 4,
 "nbformat_minor": 5
}
