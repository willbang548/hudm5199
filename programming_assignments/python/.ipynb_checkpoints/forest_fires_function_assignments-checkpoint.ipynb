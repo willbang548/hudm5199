{
 "cells": [
  {
   "cell_type": "markdown",
   "metadata": {},
   "source": [
    "## Fighting Forest Fires with Functions\n",
    "\n",
    "\n",
    "### Programming for Data Science\n",
    "### Last Updated: Jan 15, 2023\n",
    "---"
   ]
  },
  {
   "cell_type": "markdown",
   "metadata": {},
   "source": [
    "### Objectives: \n",
    "- Work with functions (built-in and user-defined), lambda functions, and list comprehensions\n",
    "\n",
    "### Executive Summary\n",
    "\n",
    "\n",
    "You will work with the Forest Fires Data Set from UCI.  \n",
    "\n",
    "Information about the dataset: https://archive.ics.uci.edu/ml/datasets/Forest+Fires\n",
    "\n",
    "Background: This dataset was used in a regression task, where the aim was to predict the burned area of forest fires, in the northeast region of Portugal, by using meteorological and other data.\n",
    "\n",
    "We will apply some of the steps leading to an ML task."
   ]
  },
  {
   "cell_type": "markdown",
   "metadata": {},
   "source": [
    "### Instructions\n",
    "\n",
    "Run the pre-populated code, and along the way, you will be asked to perform several graded tasks <span style=\"color:blue\">(prompted in blue font)</span>.  \n",
    "Show your code and solutions clearly in the cells following each question.   \n",
    "When the file is completed, submit the notebook through Collab.\n",
    "\n",
    "**TOTAL POINTS: 14**\n",
    "\n",
    "---\n"
   ]
  },
  {
   "cell_type": "code",
   "execution_count": null,
   "metadata": {},
   "outputs": [],
   "source": [
    "import pandas as pd\n",
    "import numpy as np"
   ]
  },
  {
   "cell_type": "markdown",
   "metadata": {},
   "source": [
    "#### Read in the dataset from the UCI Machine Learning Repository  "
   ]
  },
  {
   "cell_type": "code",
   "execution_count": null,
   "metadata": {},
   "outputs": [],
   "source": [
    "path_to_data = \"https://archive.ics.uci.edu/ml/machine-learning-databases/forest-fires/forestfires.csv\"\n",
    "fire = pd.read_csv(path_to_data)"
   ]
  },
  {
   "cell_type": "code",
   "execution_count": null,
   "metadata": {},
   "outputs": [],
   "source": [
    "fire.head(3)"
   ]
  },
  {
   "cell_type": "markdown",
   "metadata": {},
   "source": [
    "**Working with spatial coordinates X, Y**\n",
    "\n",
    "X - x-axis spatial coordinate within the Montesinho park map: 1 to 9  \n",
    "Y - y-axis spatial coordinate within the Montesinho park map: 2 to 9"
   ]
  },
  {
   "cell_type": "code",
   "execution_count": null,
   "metadata": {},
   "outputs": [],
   "source": [
    "# extract the spatial coords\n",
    "\n",
    "X, Y = fire.X.values, fire.Y.values"
   ]
  },
  {
   "cell_type": "markdown",
   "metadata": {},
   "source": [
    "**<span style=\"color:blue\">(2 PTS) 1. Write a function called `coord_builder()` with these requirements:</span>**\n",
    "\n",
    "- takes X, Y as inputs\n",
    "- contains a docstring with short description of the function\n",
    "- uses the zip() function (details: https://realpython.com/python-zip-function/)\n",
    "- builds and returns a list of tuples [(x1,y1), (x2,y2), ..., (xn,yn)] where (xi,yi) are the ordered pairs from X, Y\n",
    "\n",
    "Hint: You'll need to call list() on the zipped object to show the results\n"
   ]
  },
  {
   "cell_type": "code",
   "execution_count": null,
   "metadata": {},
   "outputs": [],
   "source": []
  },
  {
   "cell_type": "markdown",
   "metadata": {},
   "source": [
    "**<span style=\"color:blue\">(1 PT) 2. Call your `coord_builder()` function, passing in X, Y.  \n",
    "    Please subset the returned list to show a list with only the FIRST FIVE TUPLES. </span>**"
   ]
  },
  {
   "cell_type": "code",
   "execution_count": null,
   "metadata": {},
   "outputs": [],
   "source": []
  },
  {
   "cell_type": "markdown",
   "metadata": {},
   "source": [
    "**Working with AREA**"
   ]
  },
  {
   "cell_type": "code",
   "execution_count": null,
   "metadata": {},
   "outputs": [],
   "source": [
    "# extract values for area\n",
    "area = fire.area.values"
   ]
  },
  {
   "cell_type": "markdown",
   "metadata": {},
   "source": [
    "**<span style=\"color:blue\">(1 PT) 3. Write code to print the minimum area and maximum area in a tuple\n",
    "(min_value, max_value) where the min_value, max_value are floats.</span>** "
   ]
  },
  {
   "cell_type": "code",
   "execution_count": null,
   "metadata": {},
   "outputs": [],
   "source": []
  },
  {
   "cell_type": "markdown",
   "metadata": {},
   "source": [
    "**<span style=\"color:blue\">(2 PTS) 4. Write a lambda function that computes the following transformation of a variable:</span>**   \n",
    "```    \n",
    "    logarithm(base10) of [1 + x]\n",
    "```\n",
    "\n",
    "**<span style=\"color:blue\">Then call the lambda function on *area*, printing the LAST 10 values.</span>**  \n",
    "Hint: numpy has a function that can be applied to an array."
   ]
  },
  {
   "cell_type": "code",
   "execution_count": null,
   "metadata": {},
   "outputs": [],
   "source": []
  },
  {
   "cell_type": "markdown",
   "metadata": {},
   "source": [
    "**Working with MONTH**\n",
    "\n",
    "month - month of the year: 'jan' to 'dec'"
   ]
  },
  {
   "cell_type": "code",
   "execution_count": null,
   "metadata": {},
   "outputs": [],
   "source": [
    "month = fire.month.values"
   ]
  },
  {
   "cell_type": "markdown",
   "metadata": {},
   "source": [
    "**<span style=\"color:blue\">(1 PT) 5. Call the `unique()` function (from the numpy package) on *month*, printing the unique months:</span>**   "
   ]
  },
  {
   "cell_type": "code",
   "execution_count": null,
   "metadata": {},
   "outputs": [],
   "source": []
  },
  {
   "cell_type": "markdown",
   "metadata": {},
   "source": [
    "**<span style=\"color:blue\">(1 PT) 6. Write a list comprehension to select all months starting with letter 'a' from *month*.   \n",
    "    Next, call set() on the result, to get the unique months starting with letter 'a'. Print this result.</span>**   "
   ]
  },
  {
   "cell_type": "code",
   "execution_count": null,
   "metadata": {},
   "outputs": [],
   "source": []
  },
  {
   "cell_type": "markdown",
   "metadata": {},
   "source": [
    "**Working with DMC**  \n",
    "DMC - DMC index from the FWI system: 1.1 to 291.3  "
   ]
  },
  {
   "cell_type": "code",
   "execution_count": null,
   "metadata": {},
   "outputs": [],
   "source": [
    "dmc = fire.DMC.values"
   ]
  },
  {
   "cell_type": "markdown",
   "metadata": {},
   "source": [
    "**<span style=\"color:blue\">(2 PTS) 7. Write a function called `bandpass_filter()` with these requirements:</span>**\n",
    "\n",
    "- takes three inputs: \n",
    "  - a numpy array to be filtered\n",
    "  - an integer serving as a lower bound L\n",
    "  - an integer serving as an upper bound U\n",
    "- returns a new array containing only the values from the original array which are greater than L AND less than U"
   ]
  },
  {
   "cell_type": "code",
   "execution_count": null,
   "metadata": {},
   "outputs": [],
   "source": []
  },
  {
   "cell_type": "markdown",
   "metadata": {},
   "source": [
    "**<span style=\"color:blue\">(1 PT) 8. Call `bandpass_filter()` passing DMC as the array, L=25, U=35, printing the result. </span>**\n"
   ]
  },
  {
   "cell_type": "code",
   "execution_count": null,
   "metadata": {},
   "outputs": [],
   "source": []
  },
  {
   "cell_type": "markdown",
   "metadata": {},
   "source": [
    "**Working with FFMC**  \n",
    "FFMC - FFMC index from the FWI system: 18.7 to 96.20"
   ]
  },
  {
   "cell_type": "code",
   "execution_count": null,
   "metadata": {},
   "outputs": [],
   "source": [
    "FFMC = fire.FFMC.values"
   ]
  },
  {
   "cell_type": "markdown",
   "metadata": {},
   "source": [
    "**<span style=\"color:blue\">(2 PTS) 9. Write a function called `sum_sq_err()` with these requirements:</span>**\n",
    "\n",
    "- take a numpy array as input\n",
    "- compute the mean of the array, mu\n",
    "- using a for-loop, compute the squared deviation of each array element xi from the mean, (xi - mu)**2  \n",
    "Hint: it may be helpful to keep a running sum of the squared deviations\n",
    "\n",
    "\n",
    "- computes the sum of squared deviations\n",
    "- returns the sum of squared deviations"
   ]
  },
  {
   "cell_type": "code",
   "execution_count": null,
   "metadata": {},
   "outputs": [],
   "source": []
  },
  {
   "cell_type": "markdown",
   "metadata": {},
   "source": [
    "**<span style=\"color:blue\">(1 PT) 10. Call `sum_sq_err()` passing FFMC as the array, printing the result. </span>**"
   ]
  },
  {
   "cell_type": "code",
   "execution_count": null,
   "metadata": {},
   "outputs": [],
   "source": []
  },
  {
   "cell_type": "markdown",
   "metadata": {},
   "source": [
    "---  "
   ]
  }
 ],
 "metadata": {
  "kernelspec": {
   "display_name": "Python 3 (ipykernel)",
   "language": "python",
   "name": "python3"
  },
  "language_info": {
   "codemirror_mode": {
    "name": "ipython",
    "version": 3
   },
   "file_extension": ".py",
   "mimetype": "text/x-python",
   "name": "python",
   "nbconvert_exporter": "python",
   "pygments_lexer": "ipython3",
   "version": "3.9.12"
  }
 },
 "nbformat": 4,
 "nbformat_minor": 4
}
