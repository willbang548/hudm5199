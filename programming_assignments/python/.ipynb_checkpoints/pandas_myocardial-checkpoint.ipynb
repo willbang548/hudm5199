{
 "cells": [
  {
   "cell_type": "markdown",
   "metadata": {},
   "source": [
    "## Myocardial Infarction Analytics with Pandas\n",
    "\n",
    "\n",
    "### Programming for Data Science\n",
    "### Last Updated: Jan 15, 2023\n",
    "---"
   ]
  },
  {
   "cell_type": "markdown",
   "metadata": {},
   "source": [
    "### Objectives: \n",
    "- Use pandas to perform operations, analytics, and visualization on healthcare data\n",
    "\n",
    "### Executive Summary\n",
    "\n",
    "In this assignment you will download and work with the Myocardial Infarction (MI) Complications Data Set housed at UCI.  \n",
    "A myocardial infarction is commonly called a heart attack.\n",
    "\n",
    "**Dataset Description File (DDF)**  \n",
    "Read about the dataset here:  \n",
    "https://archive.ics.uci.edu/ml/datasets/Myocardial+infarction+complications#\n",
    "\n",
    "You will work with some of the columns.  \n",
    "A subset of these could be predictors in an ML model, while others could be outcome variables.  \n",
    "The section **Attribute Information** in the DDF provides details."
   ]
  },
  {
   "cell_type": "markdown",
   "metadata": {},
   "source": [
    "### Instructions\n",
    "\n",
    "You will be asked to perform several tasks.  \n",
    "Show your code and solutions clearly in the cells following each question.   \n",
    "When the file is completed, submit the notebook through Collab.\n",
    "\n",
    "**TOTAL POINTS: 12**\n",
    "\n",
    "---\n"
   ]
  },
  {
   "cell_type": "code",
   "execution_count": null,
   "metadata": {},
   "outputs": [],
   "source": [
    "import pandas as pd\n",
    "import numpy as np"
   ]
  },
  {
   "cell_type": "markdown",
   "metadata": {},
   "source": [
    "#### Read in the dataset from the UCI Machine Learning Repository \n",
    "Hints:  \n",
    "Use the read_csv() function, giving the path to the dataset (*path_to_data*) as an argument.  \n",
    "There is no header in this data, so pass a second argument `header=None`."
   ]
  },
  {
   "cell_type": "code",
   "execution_count": null,
   "metadata": {},
   "outputs": [],
   "source": [
    "path_to_data = \"https://archive.ics.uci.edu/ml/machine-learning-databases/00579/MI.data\""
   ]
  },
  {
   "cell_type": "markdown",
   "metadata": {},
   "source": [
    " **<span style=\"color:blue\">1 PT) 1. Print the number of records in the dataset</span>**"
   ]
  },
  {
   "cell_type": "code",
   "execution_count": null,
   "metadata": {},
   "outputs": [],
   "source": []
  },
  {
   "cell_type": "markdown",
   "metadata": {},
   "source": [
    "**<span style=\"color:blue\">(1 PT) 2. Show the first three records in the dataset</span>**"
   ]
  },
  {
   "cell_type": "code",
   "execution_count": null,
   "metadata": {},
   "outputs": [],
   "source": []
  },
  {
   "cell_type": "markdown",
   "metadata": {},
   "source": [
    "**Working with AGE**\n",
    "\n",
    "The second column contains patient age. If your dataframe is named `df`, you can reference the column with: df[1]  \n",
    "(generally the field names will be strings and you can use df['age'] to access field `age`, as an example).\n",
    "\n",
    "\n",
    "**<span style=\"color:blue\">(1 PT) 3. One complication: missing values are filled with '?' which will cause problems (e.g., stats can't be computed easily).   \n",
    "Count the number of records in df[1] containing '?'.</span>**"
   ]
  },
  {
   "cell_type": "code",
   "execution_count": null,
   "metadata": {},
   "outputs": [],
   "source": []
  },
  {
   "cell_type": "markdown",
   "metadata": {},
   "source": [
    "**<span style=\"color:blue\">(1 PT) 4. Write code to replace '?' with np.nan in the column df[1] of your dataframe.** </span>"
   ]
  },
  {
   "cell_type": "code",
   "execution_count": null,
   "metadata": {},
   "outputs": [],
   "source": []
  },
  {
   "cell_type": "markdown",
   "metadata": {},
   "source": [
    "**<span style=\"color:blue\"> (1 PT) 5. Print the number of records containing np.nan in the column df[1] of your dataframe.**</span>"
   ]
  },
  {
   "cell_type": "code",
   "execution_count": null,
   "metadata": {},
   "outputs": [],
   "source": []
  },
  {
   "cell_type": "markdown",
   "metadata": {},
   "source": [
    "Another complication: the age data is saved as strings, and there are the null values.  \n",
    "Here's an example:"
   ]
  },
  {
   "cell_type": "code",
   "execution_count": null,
   "metadata": {},
   "outputs": [],
   "source": [
    "# inspect first element\n",
    "\n",
    "df[1].iloc[0]"
   ]
  },
  {
   "cell_type": "code",
   "execution_count": null,
   "metadata": {},
   "outputs": [],
   "source": [
    "# check the column type\n",
    "df[1].dtype"
   ]
  },
  {
   "cell_type": "markdown",
   "metadata": {},
   "source": [
    "To convert the column to numeric, we can use `apply()` with a lambda function.  \n",
    "If the type is string, we cast to numeric, otherwise it's null and we leave things alone.  \n",
    "`isinstance(x, str)` checks if x is a string, returning a bool.  \n",
    "\n",
    "Review this code for understanding:"
   ]
  },
  {
   "cell_type": "code",
   "execution_count": null,
   "metadata": {},
   "outputs": [],
   "source": [
    "df[1] = df[1].apply(lambda x: float(x) if isinstance(x, str) else x)"
   ]
  },
  {
   "cell_type": "markdown",
   "metadata": {},
   "source": [
    "**<span style=\"color:blue\">(1 PT) 6. Show the data type of `age` is no longer string type.</span>**"
   ]
  },
  {
   "cell_type": "code",
   "execution_count": null,
   "metadata": {},
   "outputs": [],
   "source": []
  },
  {
   "cell_type": "markdown",
   "metadata": {},
   "source": [
    "**<span style=\"color:blue\">(1 PT) 7. Compute the median age</span>**"
   ]
  },
  {
   "cell_type": "code",
   "execution_count": null,
   "metadata": {},
   "outputs": [],
   "source": []
  },
  {
   "cell_type": "markdown",
   "metadata": {},
   "source": [
    "**Working with GENDER** \n",
    "\n",
    "The third column contains patient gender; again since indexing starts at zero, you'll reference df[2]\n",
    "\n",
    "**<span style=\"color:blue\">(1 PT) 8. Print the frequency AND percentage of each gender.</span>**  \n",
    "Hint: The function you'll use to compute frequencies will take an argument to compute percentages."
   ]
  },
  {
   "cell_type": "code",
   "execution_count": null,
   "metadata": {},
   "outputs": [],
   "source": []
  },
  {
   "cell_type": "markdown",
   "metadata": {},
   "source": [
    "**Working with Essential Hypertension (EH)** \n",
    "\n",
    "Reference this column with df[8]  \n",
    "\n",
    "**<span style=\"color:blue\">(1 PT) 9. Enter the most frequent value</span>**"
   ]
  },
  {
   "cell_type": "code",
   "execution_count": null,
   "metadata": {},
   "outputs": [],
   "source": []
  },
  {
   "cell_type": "markdown",
   "metadata": {},
   "source": [
    "**Working with Atrial Fibrillation (AFIB)** \n",
    "\n",
    "Reference this column with df[112]  \n",
    "AFIB is one of the complications and outcomes of myocardial infarction.\n",
    "\n",
    "**<span style=\"color:blue\">(1 PT) 10. Print the number of AFIB cases (value=1)</span>**"
   ]
  },
  {
   "cell_type": "code",
   "execution_count": null,
   "metadata": {},
   "outputs": [],
   "source": []
  },
  {
   "cell_type": "markdown",
   "metadata": {},
   "source": [
    "Construct a new dataframe containing only columns: AGE, AFIB  \n",
    "As a reminder, AGE lives in df[1] and AFIB lives in df[112]  \n",
    "\n",
    "**<span style=\"color:blue\">(1 PT) 11. Print the shape of this dataframe</span>**"
   ]
  },
  {
   "cell_type": "code",
   "execution_count": null,
   "metadata": {},
   "outputs": [],
   "source": []
  },
  {
   "cell_type": "markdown",
   "metadata": {},
   "source": [
    "We plan to plot AGE and AFIB, so renaming the columns to strings will make things easier.  \n",
    "We use `rename()` for this:"
   ]
  },
  {
   "cell_type": "code",
   "execution_count": null,
   "metadata": {},
   "outputs": [],
   "source": [
    "df2 = df2.rename(columns={1:'age', 112:'AFIB'})\n",
    "df2.head()"
   ]
  },
  {
   "cell_type": "markdown",
   "metadata": {},
   "source": [
    "**<span style=\"color:blue\">(1 PT) 12. Import the `seaborn` package for visualization.\n",
    "             Create a boxplot with AFIB on the x-axis and Age on the y-axis</span>**\n",
    "             \n",
    "documentation: https://seaborn.pydata.org/generated/seaborn.boxplot.html"
   ]
  },
  {
   "cell_type": "code",
   "execution_count": null,
   "metadata": {},
   "outputs": [],
   "source": []
  },
  {
   "cell_type": "markdown",
   "metadata": {},
   "source": [
    "(ungraded) What do you notice about the difference in age distributions between AFIB/non-AFIB groups?"
   ]
  },
  {
   "cell_type": "code",
   "execution_count": null,
   "metadata": {},
   "outputs": [],
   "source": []
  }
 ],
 "metadata": {
  "kernelspec": {
   "display_name": "Python 3 (ipykernel)",
   "language": "python",
   "name": "python3"
  },
  "language_info": {
   "codemirror_mode": {
    "name": "ipython",
    "version": 3
   },
   "file_extension": ".py",
   "mimetype": "text/x-python",
   "name": "python",
   "nbconvert_exporter": "python",
   "pygments_lexer": "ipython3",
   "version": "3.9.12"
  }
 },
 "nbformat": 4,
 "nbformat_minor": 4
}
