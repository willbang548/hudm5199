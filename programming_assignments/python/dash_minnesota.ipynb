{
 "cells": [
  {
   "cell_type": "markdown",
   "metadata": {},
   "source": [
    "## Dash\n",
    "\n",
    "\n",
    "### Programming for Data Science\n",
    "### Created: April 24, 2023\n",
    "---"
   ]
  },
  {
   "cell_type": "markdown",
   "metadata": {},
   "source": [
    "### Instructions\n",
    "\n",
    "Use Dash apps to produce interactive scatter plots on an educational dataset.  \n",
    "\n",
    "\n",
    "- The dataset we will be using is a subset of a larger dataset collected by the Minneapolis Public School District (MPLS) in Minnesota, USA. \n",
    "\n",
    "- The variables in the data include student identifier (subid), reading achievement scores from grades 5 to 8, risk group (risk), gender (gen), ethnicity (eth), English language learner status (ell), special education services (sped), and attendance proportion (att).\n",
    "\n",
    "\n",
    "Note that using **ChatGPT** to answer any of the questions in this programming assignment is strictly **prohibited**. This course aims to teach the basics of Python and other tools, and using ChatGPT to solve the assignment will hinder your ability to improve your essential programming skills. Violating this policy will result in an 80% deduction for the assignment.\n",
    "\n",
    "\n",
    "### TOTAL POINTS: 10\n",
    "---\n"
   ]
  },
  {
   "cell_type": "code",
   "execution_count": null,
   "metadata": {},
   "outputs": [],
   "source": [
    "import dash\n",
    "from dash import html # html object to create a layout\n",
    "from dash import dcc # dash core components\n",
    "from dash.dependencies import Input, Output\n",
    "import dash_bootstrap_components as dbc\n",
    "import plotly.express as px\n",
    "import pandas as pd"
   ]
  },
  {
   "cell_type": "markdown",
   "metadata": {},
   "source": [
    "#### Read in the dataset on the Minneapolis Public School District (MPLS)"
   ]
  },
  {
   "cell_type": "code",
   "execution_count": null,
   "metadata": {},
   "outputs": [],
   "source": [
    "path_to_data = \"https://studysites.sagepub.com/long/chapters/datasets/82689_01ds2.txt\"\n",
    "df = pd.read_csv(path_to_data, sep = \" \")\n",
    "df.head(10)\n"
   ]
  },
  {
   "cell_type": "markdown",
   "metadata": {},
   "source": [
    "1. **(5 PT)** Create a scatter plot of attendance proportion (*att*; x-variable) and reading score for a specific grade of interest using a dropdown menu. The dropdown menu in the app layout should allow users to select the grade of interest. As mentioned in the previous assignment, values of -99 indicate missing values, so please remove them when plotting. You also need to create a CSS file to adjust at least three style components. Finally, run the app server to launch the app."
   ]
  },
  {
   "cell_type": "code",
   "execution_count": null,
   "metadata": {},
   "outputs": [],
   "source": [
    "# Remove missing values (-99)\n",
    "df = df[df['att'] != -99]\n",
    "\n",
    "# Create a Dash app\n",
    "app = dash.Dash(__name__, external_stylesheets=[dbc.themes.BOOTSTRAP])\n",
    "\n",
    "# App layout\n",
    "app.layout = dbc.Container([\n",
    "    html.H1(\"Scatter Plot of Attendance Proportion and Reading Score\",\n",
    "            style={'textAlign': 'center', 'color': '#343a40', 'marginBottom': '20px'}),\n",
    "    dcc.Dropdown(\n",
    "        id='grade-dropdown',\n",
    "        options=[{\"label\": f\"Grade {grade}\", \"value\": grade} for grade in range(5, 9)],\n",
    "        value=5,\n",
    "        clearable=False,\n",
    "        style={'marginBottom': '20px'},\n",
    "    ),\n",
    "    dcc.Graph(id='scatter-plot'),\n",
    "], fluid=True, style={'fontFamily': 'Arial, sans-serif', 'backgroundColor': '#f8f9fa'})\n",
    "\n",
    "# Callback to update the scatter plot based on the selected grade\n",
    "@app.callback(\n",
    "    Output('scatter-plot', 'figure'),\n",
    "    Input('grade-dropdown', 'value')\n",
    ")\n",
    "def update_scatter_plot(selected_grade):\n",
    "    column_name = f\"read.{selected_grade}\"\n",
    "    filtered_df = df[['att', column_name]].dropna()\n",
    "    fig = px.scatter(filtered_df, x='att', y=column_name, title=f\"Grade {selected_grade}\")\n",
    "    return fig\n",
    "\n",
    "if __name__ == '__main__':\n",
    "    app.run_server(debug=True, port=8051)"
   ]
  },
  {
   "cell_type": "markdown",
   "metadata": {},
   "source": [
    "2. **(5 PT)**  Produce the same plot as in Question 1, except that (i) you should use any appropriate component like Input, RadioItems, RangeSlider, or Slider, except for the dropdown menu, and (ii) you should change the style argument of at least three individual components in the dash app (i.e., don't create a separate css file). Choose an appropriate component for the grade selection and explain why you chose it. Finally, run the app server to launch the app."
   ]
  },
  {
   "cell_type": "code",
   "execution_count": null,
   "metadata": {},
   "outputs": [],
   "source": [
    "# Create a Dash app\n",
    "app = dash.Dash(__name__, external_stylesheets=[dbc.themes.BOOTSTRAP])\n",
    "\n",
    "# App layout\n",
    "app.layout = dbc.Container([\n",
    "    html.H1(\"Scatter Plot of Attendance Proportion and Reading Score\",\n",
    "            style={'textAlign': 'center', 'color': '#343a40', 'marginBottom': '20px'}),\n",
    "    dbc.RadioItems(\n",
    "        id='grade-radio',\n",
    "        options=[{\"label\": f\"Grade {grade}\", \"value\": grade} for grade in range(5, 9)],\n",
    "        value=5,\n",
    "        inline=True,\n",
    "        style={'marginBottom': '20px', 'fontFamily': 'Arial, sans-serif', 'fontSize': '1.1rem'}\n",
    "    ),\n",
    "    dcc.Graph(id='scatter-plot', style={'height': '80vh'}),\n",
    "], fluid=True, style={'fontFamily': 'Arial, sans-serif', 'backgroundColor': '#f8f9fa'})\n",
    "\n",
    "# Callback to update the scatter plot based on the selected grade\n",
    "@app.callback(\n",
    "    Output('scatter-plot', 'figure'),\n",
    "    Input('grade-radio', 'value')\n",
    ")\n",
    "def update_scatter_plot(selected_grade):\n",
    "    column_name = f\"read.{selected_grade}\"\n",
    "    filtered_df = df[['att', column_name]].dropna()\n",
    "    fig = px.scatter(filtered_df, x='att', y=column_name, title=f\"Grade {selected_grade}\")\n",
    "    return fig\n",
    "\n",
    "if __name__ == '__main__':\n",
    "    app.run_server(debug=True, port=8051)"
   ]
  },
  {
   "cell_type": "markdown",
   "metadata": {},
   "source": [
    "---"
   ]
  }
 ],
 "metadata": {
  "kernelspec": {
   "display_name": "Python 3 (ipykernel)",
   "language": "python",
   "name": "python3"
  },
  "language_info": {
   "codemirror_mode": {
    "name": "ipython",
    "version": 3
   },
   "file_extension": ".py",
   "mimetype": "text/x-python",
   "name": "python",
   "nbconvert_exporter": "python",
   "pygments_lexer": "ipython3",
   "version": "3.9.13"
  }
 },
 "nbformat": 4,
 "nbformat_minor": 4
}
