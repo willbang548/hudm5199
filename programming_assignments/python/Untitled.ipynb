{
 "cells": [
  {
   "cell_type": "raw",
   "id": "a9083cad-5c96-4224-968c-c7202ec8e299",
   "metadata": {},
   "source": [
    "Zhibang Wu\n",
    "Python Assignment"
   ]
  },
  {
   "cell_type": "code",
   "execution_count": 1,
   "id": "cbb38026-ad6e-405b-9c0b-aee8ff8c8216",
   "metadata": {},
   "outputs": [
    {
     "name": "stdout",
     "output_type": "stream",
     "text": [
      "{'Jon': '95', 'Mike': '84', 'Jaime': '99'}\n"
     ]
    }
   ],
   "source": [
    "greenbook = {'Jon':'95','Mike':'84','Jaime':'99'}\n",
    "print(greenbook)"
   ]
  },
  {
   "cell_type": "code",
   "execution_count": 3,
   "id": "d870ae3c-366d-4ebd-813c-3fcae590ee2f",
   "metadata": {},
   "outputs": [
    {
     "name": "stdout",
     "output_type": "stream",
     "text": [
      "84\n"
     ]
    }
   ],
   "source": [
    "grades = list(greenbook.values())\n",
    "print(grades[1])"
   ]
  },
  {
   "cell_type": "code",
   "execution_count": 5,
   "id": "738bc3f4-bedb-4159-93b8-24e5eb4cd62f",
   "metadata": {},
   "outputs": [
    {
     "data": {
      "text/plain": [
       "'84'"
      ]
     },
     "execution_count": 5,
     "metadata": {},
     "output_type": "execute_result"
    }
   ],
   "source": [
    "greenbook['Mike']"
   ]
  },
  {
   "cell_type": "code",
   "execution_count": null,
   "id": "cf9e825f-fddd-4566-8ba6-b0872cd19532",
   "metadata": {},
   "outputs": [],
   "source": []
  }
 ],
 "metadata": {
  "kernelspec": {
   "display_name": "Python 3 (ipykernel)",
   "language": "python",
   "name": "python3"
  },
  "language_info": {
   "codemirror_mode": {
    "name": "ipython",
    "version": 3
   },
   "file_extension": ".py",
   "mimetype": "text/x-python",
   "name": "python",
   "nbconvert_exporter": "python",
   "pygments_lexer": "ipython3",
   "version": "3.9.13"
  }
 },
 "nbformat": 4,
 "nbformat_minor": 5
}
