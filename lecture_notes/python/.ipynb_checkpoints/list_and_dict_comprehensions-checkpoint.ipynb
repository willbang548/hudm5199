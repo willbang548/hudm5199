{
 "cells": [
  {
   "cell_type": "markdown",
   "metadata": {},
   "source": [
    "## List Comprehensions and Dictionary Comprehensions\n",
    "\n",
    "\n",
    "### Programming for Data Science\n",
    "### Last Updated: Jan 15, 2023\n",
    "---  \n",
    "\n",
    "### PREREQUISITES\n",
    "- variables\n",
    "- lists\n",
    "- `for` loop\n",
    "- `if` statement\n",
    "\n",
    "### SOURCES \n",
    "- https://www.pythonforbeginners.com/basics/list-comprehensions-in-python\n",
    "\n",
    "\n",
    "\n",
    "\n",
    "### OBJECTIVES\n",
    "- Explain the benefit of list comprehensions\n",
    "- Illustrate the use of list comprehensions\n",
    "- Explain the benefit of dict comprehensions\n",
    "- Illustrate the use of dict comprehensions\n",
    " \n",
    "\n",
    "\n",
    "### CONCEPTS\n",
    "\n",
    "- list comprehension\n",
    "- dict comprehension\n",
    "- iterators\n",
    "\n",
    "\n",
    "---\n",
    "\n",
    "### Introducing List Comprehensions\n",
    "\n",
    "`list comprehensions` provide a concise method for iterating over a list to create a new list.\n",
    "\n",
    "Consider this task: check if each integer in a list is odd.  \n",
    "Without list comprehensions, you might do this:\n",
    "\n",
    "**Check if Odd**"
   ]
  },
  {
   "cell_type": "code",
   "execution_count": 2,
   "metadata": {},
   "outputs": [
    {
     "data": {
      "text/plain": [
       "[True, True, False, False, False, True]"
      ]
     },
     "execution_count": 2,
     "metadata": {},
     "output_type": "execute_result"
    }
   ],
   "source": [
    "vals = [1,5,6,8,12,15]\n",
    "is_odd = []\n",
    "\n",
    "for val in vals:   \n",
    "    if val % 2 == 1: # if remainder is one, val is odd\n",
    "        is_odd.append(True)\n",
    "    else:       # else it's not odd\n",
    "        is_odd.append(False)\n",
    "\n",
    "is_odd"
   ]
  },
  {
   "cell_type": "markdown",
   "metadata": {},
   "source": [
    "The code loops over each value in the list, checks the condition, and appends to a new list.  \n",
    "The code works, but it's lengthy compared to a list comprehension.  \n",
    "The approach takes extra time to write and understand.  \n",
    "\n",
    "Let's solve with a list comprehension:"
   ]
  },
  {
   "cell_type": "code",
   "execution_count": 3,
   "metadata": {},
   "outputs": [
    {
     "data": {
      "text/plain": [
       "[True, True, False, False, False, True]"
      ]
     },
     "execution_count": 3,
     "metadata": {},
     "output_type": "execute_result"
    }
   ],
   "source": [
    "is_odd = [val % 2 == 1 for val in vals]\n",
    "is_odd"
   ]
  },
  {
   "cell_type": "markdown",
   "metadata": {},
   "source": [
    "Much shorter, and if you understand the syntax, quicker to interpet.\n",
    "\n",
    "Now let's discuss the syntax."
   ]
  },
  {
   "cell_type": "markdown",
   "metadata": {},
   "source": [
    "**Syntax summary for the list comprehension:**\n",
    "\n",
    "[<span style=\"color:blue\">(expression: what to do with each element) </span> (<span style=\"color:red\">the **for** loop with one or more arbitrary variables)</span> (zero or more conditional statements)]\n",
    "\n",
    "for the example above:\n",
    "\n",
    "[<span style=\"color:blue\">val % 2 == 1</span> <span style=\"color:red\">for val in vals</span>]\n",
    "\n",
    "Note: \n",
    "- there are no conditional statements\n",
    "- `val` is a placeholder "
   ]
  },
  {
   "cell_type": "markdown",
   "metadata": {},
   "source": [
    "## More examples\n",
    "\n",
    "**Stop Word Remover**\n",
    "\n",
    "Create list of words, and list of stop words.  \n",
    "Filter out the stop words (considered not important)."
   ]
  },
  {
   "cell_type": "code",
   "execution_count": 4,
   "metadata": {},
   "outputs": [
    {
     "data": {
      "text/plain": [
       "['not', 'fan', 'film']"
      ]
     },
     "execution_count": 4,
     "metadata": {},
     "output_type": "execute_result"
    }
   ],
   "source": [
    "stop_words = ['a','am','an','i','the','of']\n",
    "words      = ['i','am','not','a','fan','of','the','film']\n",
    "\n",
    "clean_words = [wd for wd in words if wd not in stop_words]\n",
    "clean_words"
   ]
  },
  {
   "cell_type": "markdown",
   "metadata": {},
   "source": [
    "placing the color-coding on the list comprehension:\n",
    "\n",
    "[<span style=\"color:blue\"> wd </span> <span style=\"color:red\"> for wd in words </span> if wd not in stop_words]\n",
    "\n",
    "- the expression is very simple: **wd**. keep the word if meets condition\n",
    "- the condition does the work: if the word isn't in list of stop words, keep it"
   ]
  },
  {
   "cell_type": "markdown",
   "metadata": {},
   "source": [
    "**Select Tokens Containing Units**\n",
    "\n",
    "Given a list of measurements, retain elements containing mmHg (millimeters of mercury)"
   ]
  },
  {
   "cell_type": "code",
   "execution_count": 5,
   "metadata": {},
   "outputs": [
    {
     "data": {
      "text/plain": [
       "['115mmHg', '120 mmHg']"
      ]
     },
     "execution_count": 5,
     "metadata": {},
     "output_type": "execute_result"
    }
   ],
   "source": [
    "units = 'mmHg'\n",
    "measures = ['20', '115mmHg', '5mg', '10 mg', '7.5dl', '120 mmHg']\n",
    "\n",
    "meas_mmhg = [meas for meas in measures if units in meas]\n",
    "meas_mmhg   "
   ]
  },
  {
   "cell_type": "markdown",
   "metadata": {},
   "source": [
    "*Filtering on two conditions*"
   ]
  },
  {
   "cell_type": "code",
   "execution_count": 6,
   "metadata": {},
   "outputs": [
    {
     "data": {
      "text/plain": [
       "['115mmHg', '7.5dl', '120 mmHg']"
      ]
     },
     "execution_count": 6,
     "metadata": {},
     "output_type": "execute_result"
    }
   ],
   "source": [
    "units1 = 'mmHg'\n",
    "units2 = 'dl'\n",
    "\n",
    "meas_mmhg_dl = [meas for meas in measures if units1 in meas or units2 in meas]\n",
    "meas_mmhg_dl"
   ]
  },
  {
   "cell_type": "markdown",
   "metadata": {},
   "source": [
    "---"
   ]
  },
  {
   "cell_type": "markdown",
   "metadata": {},
   "source": [
    "### TRY FOR YOURSELF (UNGRADED EXERCISES)"
   ]
  },
  {
   "cell_type": "markdown",
   "metadata": {},
   "source": [
    "1) Write and test a list comprehension that takes a list of values and returns a list of their cubes."
   ]
  },
  {
   "cell_type": "code",
   "execution_count": null,
   "metadata": {},
   "outputs": [],
   "source": []
  },
  {
   "cell_type": "code",
   "execution_count": null,
   "metadata": {
    "jupyter": {
     "source_hidden": true
    }
   },
   "outputs": [],
   "source": [
    "vals = [1,2,3,4]\n",
    "cubes = [val**3 for val in vals]\n",
    "cubes"
   ]
  },
  {
   "cell_type": "markdown",
   "metadata": {},
   "source": [
    "add solution and fold to hide"
   ]
  },
  {
   "cell_type": "markdown",
   "metadata": {},
   "source": [
    "2) Write and test a list comprehension that takes a list of strings and returns each string containing only a number, as in '12'.  \n",
    "hint: `isdigit()` might help."
   ]
  },
  {
   "cell_type": "code",
   "execution_count": null,
   "metadata": {},
   "outputs": [],
   "source": []
  },
  {
   "cell_type": "code",
   "execution_count": null,
   "metadata": {
    "jupyter": {
     "source_hidden": true
    }
   },
   "outputs": [],
   "source": [
    "strs = ['99', 'red balloons', 'floating', 'in the', 'summer sky.', '16', 'candles']\n",
    "\n",
    "strs_w_num = [st for st in strs if st.isdigit()]\n",
    "strs_w_num"
   ]
  },
  {
   "cell_type": "markdown",
   "metadata": {},
   "source": [
    "### Introducing Dictionary Comprehensions\n",
    "\n",
    "Analogously to list comprehensions, `dictionary comprehensions` provide a concise method for iterating over a dictionary to create a new dictionary.\n",
    "\n",
    "This is common when data is structured as key-value pairs, and we'd like to filter the dict."
   ]
  },
  {
   "cell_type": "code",
   "execution_count": null,
   "metadata": {},
   "outputs": [],
   "source": [
    "# various deep learning models and their depths\n",
    "\n",
    "model_arch = {'cnn_1':'15 layers', 'cnn_2':'20 layers', 'rnn': '10 layers'}"
   ]
  },
  {
   "cell_type": "code",
   "execution_count": null,
   "metadata": {},
   "outputs": [],
   "source": [
    "# create a new dict containing only key-value pairs where the key contains 'cnn'\n",
    "\n",
    "cnns = {key:model_arch[key] for key in model_arch.keys() if 'cnn' in key}\n",
    "cnns"
   ]
  },
  {
   "cell_type": "markdown",
   "metadata": {},
   "source": [
    "We build the key-value pairs using `key:model_arch[key]`, where the key indexes into the dict `model_arch`"
   ]
  },
  {
   "cell_type": "markdown",
   "metadata": {},
   "source": [
    "### TRY FOR YOURSELF (UNGRADED EXERCISES)"
   ]
  },
  {
   "cell_type": "markdown",
   "metadata": {},
   "source": [
    "3) Given the dict `grid`, use a dict comprehension to retain only key-value pairs where the key contains 'max':"
   ]
  },
  {
   "cell_type": "code",
   "execution_count": null,
   "metadata": {},
   "outputs": [],
   "source": [
    "grid = {'max_depth':[5,10], 'ntrees':[100,200,300],'regularization':['l1','l2'],'max_iter':[10,20]}"
   ]
  },
  {
   "cell_type": "code",
   "execution_count": null,
   "metadata": {},
   "outputs": [],
   "source": []
  },
  {
   "cell_type": "code",
   "execution_count": null,
   "metadata": {
    "jupyter": {
     "source_hidden": true
    }
   },
   "outputs": [],
   "source": [
    "grid_max = {key:grid[key] for key in grid.keys() if 'max' in key}\n",
    "grid_max"
   ]
  },
  {
   "cell_type": "markdown",
   "metadata": {},
   "source": [
    "4) Given the dict `letter_to_idx` which maps some letters to index values,  \n",
    "use a dict comprehension to create a reversed dict, `idx_to_letter` \n",
    "mapping the index values to the letters.  \n",
    "(this is a common NLP task)"
   ]
  },
  {
   "cell_type": "code",
   "execution_count": null,
   "metadata": {},
   "outputs": [],
   "source": [
    "letter_to_idx = {'a':0, 'b':1, 'c':2}"
   ]
  },
  {
   "cell_type": "code",
   "execution_count": null,
   "metadata": {},
   "outputs": [],
   "source": []
  },
  {
   "cell_type": "code",
   "execution_count": null,
   "metadata": {
    "jupyter": {
     "source_hidden": true
    }
   },
   "outputs": [],
   "source": [
    "idx_to_letter= {letter_to_idx[k]:k for k in letter_to_idx.keys()}\n",
    "idx_to_letter"
   ]
  },
  {
   "cell_type": "markdown",
   "metadata": {},
   "source": [
    "---"
   ]
  }
 ],
 "metadata": {
  "anaconda-cloud": {},
  "kernelspec": {
   "display_name": "Python 3 (ipykernel)",
   "language": "python",
   "name": "python3"
  },
  "language_info": {
   "codemirror_mode": {
    "name": "ipython",
    "version": 3
   },
   "file_extension": ".py",
   "mimetype": "text/x-python",
   "name": "python",
   "nbconvert_exporter": "python",
   "pygments_lexer": "ipython3",
   "version": "3.9.13"
  }
 },
 "nbformat": 4,
 "nbformat_minor": 4
}
