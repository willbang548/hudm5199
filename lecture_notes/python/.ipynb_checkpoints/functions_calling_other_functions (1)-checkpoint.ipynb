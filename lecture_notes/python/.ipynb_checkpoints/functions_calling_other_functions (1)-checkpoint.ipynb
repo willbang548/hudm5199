{
 "cells": [
  {
   "cell_type": "markdown",
   "metadata": {},
   "source": [
    "# Functions Calling Other Functions\n",
    "\n",
    "### Programming for Data Science\n",
    "### Last Updated: Jan 15, 2023"
   ]
  },
  {
   "cell_type": "markdown",
   "metadata": {},
   "source": [
    "### CONCEPTS\n",
    "\n",
    "- functions\n",
    "- functions calling other functions\n",
    "\n",
    "---"
   ]
  },
  {
   "cell_type": "markdown",
   "metadata": {},
   "source": [
    "Calling a function from the \"math\" library is straightforward:\n",
    "\n",
    "1) import the math library (a class) using:  import math\n",
    "\n",
    "2) call methods using \"dot\" notation, that is, <name of the library>.<name of the method>(any parameters), such as:  math.sqrt(12)"
   ]
  },
  {
   "cell_type": "code",
   "execution_count": null,
   "metadata": {},
   "outputs": [],
   "source": [
    "## Importing math functions\n",
    "import math # Typically best to put this line of code at the TOP of the file\n",
    "print(math.sqrt(12)) # using the square-root function from the math library\n",
    "\n",
    "print(math.floor(2.5)) # returns largest whole number less than the argument\n",
    "print(math.floor(2.9))\n",
    "print(math.floor(2.1))\n",
    "\n",
    "# Literature will give a full list of all mathematical functions"
   ]
  },
  {
   "cell_type": "markdown",
   "metadata": {},
   "source": [
    "Here's an example using the random library (a class).\n",
    "\n",
    "1) import the random library using: import random\n",
    "\n",
    "2) use the random() function in the random library to generate a random number"
   ]
  },
  {
   "cell_type": "code",
   "execution_count": null,
   "metadata": {},
   "outputs": [],
   "source": [
    "## Importing Random - for random number generation\n",
    "import random # Typically best to put this line of code at the TOP of the file\n",
    "print(random.random()) # using random() function in random library\n",
    "    # will return a number between 0 and 1\n",
    "                       \n",
    "print(random.randint(1,100)) # specify a range in the parenthesis\n",
    "    # this will return a random integer in the range 1-100"
   ]
  },
  {
   "cell_type": "markdown",
   "metadata": {},
   "source": [
    "### Functions - definition and benefits"
   ]
  },
  {
   "cell_type": "markdown",
   "metadata": {},
   "source": [
    "Definition:  \n",
    "A piece of source code, separate fom the larger program, that performs  \n",
    "a specific task. This section of code is given a name and can be called  \n",
    "from the main/larger program. It is called by using its given name\n",
    "\n",
    "-- Reasons to use functions:  \n",
    "1. reduce complex tasks into simpler tasks  \n",
    "2. eliminate  duplicate code (no need to re-write, reuse function as needed)  \n",
    "3. code reuse (once function is written, can reuse it in any other program)  \n",
    "4. distribute tasks to multiple programmers (each function written by someone)  \n",
    "5. hide implementation details - abstraction  \n",
    "   (increase readability, increase maintenance and quality)  \n",
    "6. improves debugging by improving traceability  \n",
    "   (easier to follow - jump from function to function)\n",
    "\n",
    "====================================================================  \n",
    "\n",
    "-- Example of a function  \n",
    "use the key word \"def\" - for \"definition\"  \n",
    "\n",
    "Format:  \n",
    "```\n",
    "def functionName(parameters):  \n",
    "    statements (indented) [return used]\n",
    "    ```\n",
    "    \n",
    "**Function Examples**"
   ]
  },
  {
   "cell_type": "code",
   "execution_count": null,
   "metadata": {},
   "outputs": [],
   "source": [
    "def square(number):\n",
    "    return number * number  # square a number\n",
    "    \n",
    "def addTen(number):\n",
    "    return number + 10  # Add 10 to the number   \n",
    "    \n",
    "def numVowels(string):\n",
    "    string = string.lower()  # convert user input to lowercase\n",
    "    count = 0\n",
    "    for i in range(len(string)):\n",
    "        if string[i] == \"a\" or string[i] == \"e\" or \\\n",
    "           string[i] == \"i\" or string[i] == \"o\" or \\\n",
    "           string[i] == \"u\":\n",
    "           count += 1 # increment count\n",
    "    return count"
   ]
  },
  {
   "cell_type": "markdown",
   "metadata": {},
   "source": [
    "### TRY FOR YOURSELF\n",
    "\n",
    "The cells below call the defined functions. Run the cells to try them out."
   ]
  },
  {
   "cell_type": "code",
   "execution_count": null,
   "metadata": {},
   "outputs": [],
   "source": [
    "# Usage:\n",
    "num = int(input(\"Enter a number to square: \"))\n",
    "numSquared = square(num)  # calling the square function with num as parameter\n",
    "plusten = addTen(num)  # calling the addTen function\n",
    "print(str(num) + \" squared is: \" + str(numSquared))\n",
    "print(str(num) + \" plus 10 is: \" + str(plusten))"
   ]
  },
  {
   "cell_type": "code",
   "execution_count": null,
   "metadata": {},
   "outputs": [],
   "source": [
    "strng = input(\"Enter a string: \")\n",
    "print(\"There are \" + str(numVowels(strng)) + \" vowels in the string.\")"
   ]
  },
  {
   "cell_type": "markdown",
   "metadata": {},
   "source": [
    "### Functions Calling Other Functions"
   ]
  },
  {
   "cell_type": "markdown",
   "metadata": {},
   "source": [
    "#### EXAMPLE: Using a conversion program to convert degrees F to degrees C and vice versa"
   ]
  },
  {
   "cell_type": "code",
   "execution_count": null,
   "metadata": {},
   "outputs": [],
   "source": [
    "def ftoc(temp):  # *F to *C\n",
    "    return (temp-32.0) * (5.0/9.0)\n",
    "    \n",
    "def ctof(temp):  # *C to *F\n",
    "    return temp * (9.0/5.0) + 32.0\n",
    "    \n",
    "def convert(temp, toTemp):  # Two parameters\n",
    "    # No problem to call another function in the body of a function\n",
    "    if toTemp.lower() == \"c\":\n",
    "        return ftoc(temp)  # function call to ftoc\n",
    "    else:\n",
    "        return ctof(temp)  # function call to ctof\n",
    "    \n",
    "\n",
    "temp = int(input(\"Enter a temperature: \"))                \n",
    "scale = input(\"Enter the scale to convert to: (c or f) \")\n",
    "if (scale == 'c'):\n",
    "    currentScale = 'f'\n",
    "else:\n",
    "    currentScale = 'c'\n",
    "\n",
    "converted = convert(temp, scale)\n",
    "print(temp, currentScale, \"converted becomes:\" ,converted, scale)"
   ]
  },
  {
   "cell_type": "markdown",
   "metadata": {},
   "source": [
    "#### EXAMPLE: Counting the number of vowels"
   ]
  },
  {
   "cell_type": "code",
   "execution_count": null,
   "metadata": {},
   "outputs": [],
   "source": [
    "# Predicate functions - often used as helper functions that return True or False\n",
    "\n",
    "def isVowel(l):\n",
    "    if l == \"a\" or l == \"e\" or l == \"i\" or l == \"o\" or l == \"u\":\n",
    "        return True  # if the letter is a vowel, return True\n",
    "    else:\n",
    "        return False # else, return False\n",
    "        \n",
    "def numVowels(string):\n",
    "    string = string.lower()\n",
    "    count = 0\n",
    "    for i in range(len(string)):  # for each character\n",
    "        if isVowel(string[i]):  # calling function above\n",
    "            count += 1  # increment count\n",
    "    return count\n",
    "    \n",
    "    \n",
    "theStrng = input(\"Enter a string: \")\n",
    "print(\"There are \" + str(numVowels(theStrng)) + \" vowels in the string.\")"
   ]
  },
  {
   "cell_type": "markdown",
   "metadata": {},
   "source": [
    "#### EXAMPLE: Calculating tax on a given amount"
   ]
  },
  {
   "cell_type": "markdown",
   "metadata": {},
   "source": [
    "Writing two functions:\n",
    "1. computes tax based on a gross amount\n",
    "2. calculates a net pay using the tax function (written previously)\n",
    "\n",
    "Gross Amount and associated tax:\n",
    "\n",
    "* 0-240:    0%\n",
    "* 241-480: 15%\n",
    "* 481-:    28% "
   ]
  },
  {
   "cell_type": "code",
   "execution_count": null,
   "metadata": {},
   "outputs": [],
   "source": [
    "def tax(amount):\n",
    "    if amount <= 240:\n",
    "        return 0\n",
    "    elif amount > 240 and amount <= 480:\n",
    "        return amount * .15\n",
    "    else:\n",
    "        return amount * .28\n",
    "        \n",
    "def netpay(grosspay):\n",
    "    return grosspay - tax(grosspay)"
   ]
  },
  {
   "cell_type": "code",
   "execution_count": null,
   "metadata": {},
   "outputs": [],
   "source": [
    "def howMuchTax():\n",
    "    # Calling tax            \n",
    "    amount = int(input(\"Enter amount of money: \"))                            \n",
    "    print(\"The tax is: \" + str(tax(amount)))\n",
    "    \n",
    "def calcNetPay():\n",
    "    # Calling netpay \n",
    "    gp = int(input(\"Enter gross pay: \"))\n",
    "    print(\"Net pay is \" + str(netpay(gp)))"
   ]
  },
  {
   "cell_type": "code",
   "execution_count": null,
   "metadata": {},
   "outputs": [],
   "source": [
    "# Testing tax\n",
    "howMuchTax()"
   ]
  },
  {
   "cell_type": "code",
   "execution_count": null,
   "metadata": {},
   "outputs": [],
   "source": [
    "# Testing netpay\n",
    "calcNetPay()"
   ]
  },
  {
   "cell_type": "code",
   "execution_count": null,
   "metadata": {},
   "outputs": [],
   "source": []
  }
 ],
 "metadata": {
  "kernelspec": {
   "display_name": "Python 3 (ipykernel)",
   "language": "python",
   "name": "python3"
  },
  "language_info": {
   "codemirror_mode": {
    "name": "ipython",
    "version": 3
   },
   "file_extension": ".py",
   "mimetype": "text/x-python",
   "name": "python",
   "nbconvert_exporter": "python",
   "pygments_lexer": "ipython3",
   "version": "3.9.12"
  }
 },
 "nbformat": 4,
 "nbformat_minor": 4
}
