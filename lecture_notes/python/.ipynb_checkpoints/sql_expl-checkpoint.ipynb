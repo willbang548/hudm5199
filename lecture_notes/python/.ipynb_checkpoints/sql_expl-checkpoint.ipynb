{
 "cells": [
  {
   "cell_type": "code",
   "execution_count": 1,
   "id": "95ee4baa-d194-4310-940d-76808c58a120",
   "metadata": {},
   "outputs": [],
   "source": [
    "# python\n",
    "import sqlite3\n",
    "\n"
   ]
  },
  {
   "cell_type": "code",
   "execution_count": 32,
   "id": "715cd9a2-3d3f-4796-b179-ee9504f9ca2e",
   "metadata": {},
   "outputs": [],
   "source": [
    "# create some data\n",
    "stocks = [\n",
    "        ('NVDA',219,-3.42),\n",
    "        ('NVDA',218,-1.42),\n",
    "        ('AAPL',146,-2.73),\n",
    "        ('GOOG',2829.27,-58.20)]"
   ]
  },
  {
   "cell_type": "code",
   "execution_count": 3,
   "id": "4e11f64b-92d3-4e42-861e-29d3469ed55d",
   "metadata": {},
   "outputs": [
    {
     "data": {
      "text/plain": [
       "'/Users/youmisuk/Documents/repos/ds2001_spring22_original/lecture_notes/python'"
      ]
     },
     "execution_count": 3,
     "metadata": {},
     "output_type": "execute_result"
    }
   ],
   "source": [
    "pwd"
   ]
  },
  {
   "cell_type": "code",
   "execution_count": 33,
   "id": "bacc0b45-7ea4-4235-8aaa-9305a2c03b3a",
   "metadata": {},
   "outputs": [],
   "source": [
    "# connect to db\n",
    "\n",
    "# update with your path to the database\n",
    "path_to_db = \"/Users/youmisuk/sqlite/stocks.db\"   "
   ]
  },
  {
   "cell_type": "code",
   "execution_count": 34,
   "id": "8504b73d-b399-42a5-83d6-2a23cb73c5f1",
   "metadata": {},
   "outputs": [],
   "source": [
    "# create db connection\n",
    "conn = sqlite3.connect(path_to_db)"
   ]
  },
  {
   "cell_type": "code",
   "execution_count": 35,
   "id": "6850ad29-56e6-4d61-ad08-4db6fbf5fe6a",
   "metadata": {},
   "outputs": [],
   "source": [
    "# create cursor\n",
    "cur = conn.cursor()"
   ]
  },
  {
   "cell_type": "code",
   "execution_count": 37,
   "id": "58e01ae4-3aeb-4fd8-b48c-4bc742e073d4",
   "metadata": {},
   "outputs": [],
   "source": [
    "# create a table in the db called \"holdings\" and pass a schema\n",
    "# end the transaction with a commit\n",
    "cur.execute('create table holdings2 (ticker text, price real, chg real)')\n",
    "conn.commit()"
   ]
  },
  {
   "cell_type": "code",
   "execution_count": 38,
   "id": "7a234d22-4256-4165-b44a-90db908c88da",
   "metadata": {},
   "outputs": [],
   "source": [
    "# insert multiple records of data with executemany()\n",
    "cur.executemany('insert into holdings2 values (?,?,?)', stocks)\n",
    "conn.commit()"
   ]
  },
  {
   "cell_type": "code",
   "execution_count": 39,
   "id": "a68bdea7-14e6-46d7-8fca-1741429b0d5b",
   "metadata": {},
   "outputs": [
    {
     "name": "stdout",
     "output_type": "stream",
     "text": [
      "('NVDA', 219.0, -3.42)\n",
      "('NVDA', 218.0, -1.42)\n",
      "('AAPL', 146.0, -2.73)\n",
      "('GOOG', 2829.27, -58.2)\n"
     ]
    }
   ],
   "source": [
    "# query the table\n",
    "# print all the rows\n",
    "for row in conn.execute('select * from holdings2'):\n",
    "    print(row)"
   ]
  },
  {
   "cell_type": "code",
   "execution_count": 42,
   "id": "ce982092-cc41-4e38-bfb6-7936ce14bfb3",
   "metadata": {},
   "outputs": [
    {
     "name": "stdout",
     "output_type": "stream",
     "text": [
      "('NVDA', 219.0, -3.42)\n",
      "('NVDA', 218.0, -1.42)\n",
      "('GOOG', 2829.27, -58.2)\n"
     ]
    }
   ],
   "source": [
    "# print all the rows where price > 200\n",
    "for row in conn.execute('select * from holdings2 where price > 200'):\n",
    "    print(row)"
   ]
  },
  {
   "cell_type": "code",
   "execution_count": 43,
   "id": "181e0014-80c3-4e1c-a7b7-f6a102fd7d46",
   "metadata": {},
   "outputs": [
    {
     "name": "stdout",
     "output_type": "stream",
     "text": [
      "('NVDA', 219.0)\n",
      "('NVDA', 218.0)\n",
      "('GOOG', 2829.27)\n"
     ]
    }
   ],
   "source": [
    "# print all the rows where price > 200. show only ticker, price\n",
    "for row in conn.execute('select ticker, price from holdings2 where price > 200'):\n",
    "    print(row)\n",
    "\n"
   ]
  },
  {
   "cell_type": "markdown",
   "id": "528cc28f-3379-4337-a7e2-c6f7df41de15",
   "metadata": {},
   "source": [
    "## Group by"
   ]
  },
  {
   "cell_type": "code",
   "execution_count": 44,
   "id": "bb49e888-36e4-47e5-acff-6fa0b656cdb2",
   "metadata": {},
   "outputs": [
    {
     "name": "stdout",
     "output_type": "stream",
     "text": [
      "('AAPL', 1)\n",
      "('GOOG', 1)\n",
      "('NVDA', 2)\n"
     ]
    }
   ],
   "source": [
    "for row in conn.execute('select ticker, count(price) from holdings2 group by ticker'):\n",
    "    print(row)"
   ]
  },
  {
   "cell_type": "code",
   "execution_count": 52,
   "id": "29529db1-8354-42b2-97e9-4943893ad782",
   "metadata": {},
   "outputs": [
    {
     "name": "stdout",
     "output_type": "stream",
     "text": [
      "('AAPL', 146.0, 146.0, 146.0)\n",
      "('GOOG', 2829.3, 2829.3, 2829.3)\n",
      "('NVDA', 218.0, 219.0, 218.5)\n"
     ]
    }
   ],
   "source": [
    "for row in conn.execute('select ticker, round(min(price), 1), round(max(price), 1), round(avg(price), 1) from holdings2 group by ticker'):\n",
    "    print(row)"
   ]
  },
  {
   "cell_type": "code",
   "execution_count": 13,
   "id": "f17a08de-ffaa-47e0-8247-2fe131fe530c",
   "metadata": {},
   "outputs": [],
   "source": [
    "# save the resultant dataset in a list\n",
    "data = []\n",
    "for row in conn.execute('select ticker, price from holdings where price > 200'):\n",
    "    data.append(row)"
   ]
  },
  {
   "cell_type": "code",
   "execution_count": 14,
   "id": "722ebea8-265d-4f83-b4a2-4ddba6a02fba",
   "metadata": {},
   "outputs": [
    {
     "data": {
      "text/plain": [
       "[('NVDA', 219.0), ('GOOG', 2829.27)]"
      ]
     },
     "execution_count": 14,
     "metadata": {},
     "output_type": "execute_result"
    }
   ],
   "source": [
    "data"
   ]
  },
  {
   "cell_type": "code",
   "execution_count": 15,
   "id": "e4032632-7a92-4933-b39a-0e3f522ffda8",
   "metadata": {},
   "outputs": [
    {
     "data": {
      "text/plain": [
       "2"
      ]
     },
     "execution_count": 15,
     "metadata": {},
     "output_type": "execute_result"
    }
   ],
   "source": [
    "len(data)"
   ]
  },
  {
   "cell_type": "code",
   "execution_count": 16,
   "id": "e8a030be-e3df-4e3d-9036-9bee91bd99b3",
   "metadata": {},
   "outputs": [
    {
     "data": {
      "text/plain": [
       "list"
      ]
     },
     "execution_count": 16,
     "metadata": {},
     "output_type": "execute_result"
    }
   ],
   "source": [
    "type(data)"
   ]
  },
  {
   "cell_type": "code",
   "execution_count": 18,
   "id": "fe51ee0d-f5d7-4b1c-b271-1177813f199a",
   "metadata": {},
   "outputs": [
    {
     "data": {
      "text/plain": [
       "'NVDA'"
      ]
     },
     "execution_count": 18,
     "metadata": {},
     "output_type": "execute_result"
    }
   ],
   "source": [
    "data[0][0]"
   ]
  },
  {
   "cell_type": "code",
   "execution_count": null,
   "id": "c2981b3e-2cac-4fc5-9057-cab55a7d99aa",
   "metadata": {},
   "outputs": [],
   "source": [
    "# TRY FOR YOURSELF \n",
    "# Create a dataframe with columns: ticker, price.\n",
    "# Load all of the data into the dataframe"
   ]
  },
  {
   "cell_type": "code",
   "execution_count": 19,
   "id": "dcf3a85d-326c-409a-bb04-d9c14fe6d71e",
   "metadata": {},
   "outputs": [],
   "source": [
    "import pandas as pd"
   ]
  },
  {
   "cell_type": "code",
   "execution_count": 24,
   "id": "08a21de6-4638-49aa-aff6-7fe8a9f0e8f7",
   "metadata": {},
   "outputs": [],
   "source": [
    "df = pd.DataFrame(data, columns=['ticker', 'price'], index=['hi', 'hello'])"
   ]
  },
  {
   "cell_type": "code",
   "execution_count": 25,
   "id": "862bf052-16de-4665-9539-11ceb3f8c875",
   "metadata": {},
   "outputs": [
    {
     "data": {
      "text/html": [
       "<div>\n",
       "<style scoped>\n",
       "    .dataframe tbody tr th:only-of-type {\n",
       "        vertical-align: middle;\n",
       "    }\n",
       "\n",
       "    .dataframe tbody tr th {\n",
       "        vertical-align: top;\n",
       "    }\n",
       "\n",
       "    .dataframe thead th {\n",
       "        text-align: right;\n",
       "    }\n",
       "</style>\n",
       "<table border=\"1\" class=\"dataframe\">\n",
       "  <thead>\n",
       "    <tr style=\"text-align: right;\">\n",
       "      <th></th>\n",
       "      <th>ticker</th>\n",
       "      <th>price</th>\n",
       "    </tr>\n",
       "  </thead>\n",
       "  <tbody>\n",
       "    <tr>\n",
       "      <th>hi</th>\n",
       "      <td>NVDA</td>\n",
       "      <td>219.00</td>\n",
       "    </tr>\n",
       "    <tr>\n",
       "      <th>hello</th>\n",
       "      <td>GOOG</td>\n",
       "      <td>2829.27</td>\n",
       "    </tr>\n",
       "  </tbody>\n",
       "</table>\n",
       "</div>"
      ],
      "text/plain": [
       "      ticker    price\n",
       "hi      NVDA   219.00\n",
       "hello   GOOG  2829.27"
      ]
     },
     "execution_count": 25,
     "metadata": {},
     "output_type": "execute_result"
    }
   ],
   "source": [
    "df"
   ]
  },
  {
   "cell_type": "code",
   "execution_count": 26,
   "id": "50602b4a-7add-4660-8295-65d54c0ee327",
   "metadata": {},
   "outputs": [
    {
     "data": {
      "text/plain": [
       "GOOG    1\n",
       "NVDA    1\n",
       "Name: ticker, dtype: int64"
      ]
     },
     "execution_count": 26,
     "metadata": {},
     "output_type": "execute_result"
    }
   ],
   "source": [
    "df.ticker.value_counts()"
   ]
  },
  {
   "cell_type": "code",
   "execution_count": 27,
   "id": "7c0f1469-2534-4bb5-86dc-af9f8f38143c",
   "metadata": {},
   "outputs": [
    {
     "data": {
      "text/plain": [
       "1524.135"
      ]
     },
     "execution_count": 27,
     "metadata": {},
     "output_type": "execute_result"
    }
   ],
   "source": [
    "df.price.mean()"
   ]
  },
  {
   "cell_type": "code",
   "execution_count": null,
   "id": "10bb0574-2b9e-44b3-9e34-0f21d935d4e1",
   "metadata": {},
   "outputs": [],
   "source": []
  }
 ],
 "metadata": {
  "kernelspec": {
   "display_name": "Python 3",
   "language": "python",
   "name": "python3"
  },
  "language_info": {
   "codemirror_mode": {
    "name": "ipython",
    "version": 3
   },
   "file_extension": ".py",
   "mimetype": "text/x-python",
   "name": "python",
   "nbconvert_exporter": "python",
   "pygments_lexer": "ipython3",
   "version": "3.8.8"
  }
 },
 "nbformat": 4,
 "nbformat_minor": 5
}
